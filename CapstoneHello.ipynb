This notebook will be used mainly for my Capstone Project

# import the pandas library as pd
# import the Numoy library as np

import numpy as np
import pandas as pd

# print'Hello Capstone Project Course'

print("Hello Capstone Project Course!")

