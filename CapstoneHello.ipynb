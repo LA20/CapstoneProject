This notebook will be used mainly for my Capstone Project

# import the pandas library as pd
# import the Numoy library as np

import numpy as np
import pandas as pd

# print'Hello Capstone Project Course'

print("Hello Capstone Project Course!")

<script src="https://gist.github.com/LA20/d3f1fa64a33dfaee2ba43a51d43885c7.js"></script>
